{
 "cells": [
  {
   "cell_type": "code",
   "execution_count": 71,
   "metadata": {},
   "outputs": [],
   "source": [
    "import numpy as np\n",
    "import pandas as pd\n",
    "import matplotlib.pyplot as plt\n",
    "from keras.preprocessing import image\n",
    "import os\n",
    "import keras\n"
   ]
  },
  {
   "cell_type": "code",
   "execution_count": 2,
   "metadata": {},
   "outputs": [],
   "source": [
    "from keras.preprocessing.image import ImageDataGenerator"
   ]
  },
  {
   "cell_type": "code",
   "execution_count": 6,
   "metadata": {},
   "outputs": [],
   "source": [
    "#we have done this to increase the data so our model can generate generalize result\n",
    "train_gen=ImageDataGenerator(rescale=1.0/255,rotation_range=40,width_shift_range=0.2,shear_range=0.2,zoom_range=0.3,horizontal_flip=True)"
   ]
  },
  {
   "cell_type": "code",
   "execution_count": 7,
   "metadata": {},
   "outputs": [],
   "source": [
    "test_gen=ImageDataGenerator(rescale=1.0/255)"
   ]
  },
  {
   "cell_type": "code",
   "execution_count": 12,
   "metadata": {},
   "outputs": [
    {
     "name": "stdout",
     "output_type": "stream",
     "text": [
      "Found 100000 images belonging to 200 classes.\n"
     ]
    }
   ],
   "source": [
    "\n",
    "#in this in each batch new type of images are created,thats why it leads to generation of generallised result \n",
    "train_generator=train_gen.flow_from_directory(\"tiny-imagenet-200/train\",target_size=(224,224),batch_size=128)"
   ]
  },
  {
   "cell_type": "code",
   "execution_count": 14,
   "metadata": {},
   "outputs": [
    {
     "name": "stdout",
     "output_type": "stream",
     "text": [
      "Found 10000 images belonging to 1 classes.\n"
     ]
    }
   ],
   "source": [
    "test_generator=train_gen.flow_from_directory(\"tiny-imagenet-200/test\",target_size=(224,224),batch_size=128)"
   ]
  },
  {
   "cell_type": "code",
   "execution_count": 17,
   "metadata": {},
   "outputs": [
    {
     "name": "stdout",
     "output_type": "stream",
     "text": [
      "(128, 224, 224, 3)\n",
      "(128, 200)\n"
     ]
    }
   ],
   "source": [
    "x,y=train_generator.next()\n",
    "print(x.shape)\n",
    "print(y.shape)"
   ]
  },
  {
   "cell_type": "code",
   "execution_count": 20,
   "metadata": {},
   "outputs": [
    {
     "name": "stdout",
     "output_type": "stream",
     "text": [
      "{'n02124075': 32, 'n04067472': 139, 'n04540053': 171, 'n01945685': 16, 'n02395406': 48, 'n02125311': 33, 'n03026506': 90, 'n04486054': 165, 'n04099969': 142, 'n04532106': 169, 'n02268443': 43, 'n02977058': 86, 'n01641577': 2, 'n07734744': 185, 'n02802426': 68, 'n01774750': 9, 'n03042490': 91, 'n07920052': 193, 'n03970156': 131, 'n03891332': 127, 'n04562935': 173, 'n03014705': 89, 'n04251144': 148, 'n03976657': 132, 'n02106662': 28, 'n04417672': 162, 'n03201208': 98, 'n02279972': 44, 'n02002724': 20, 'n04265275': 151, 'n02132136': 35, 'n07747607': 186, 'n02074367': 23, 'n04285008': 153, 'n04146614': 145, 'n04560804': 172, 'n03444034': 107, 'n07873807': 191, 'n02364673': 47, 'n04366367': 157, 'n04507155': 168, 'n02403003': 49, 'n07615774': 180, 'n04501370': 167, 'n03854065': 126, 'n03126707': 95, 'n02906734': 79, 'n01770393': 7, 'n03838899': 125, 'n04597913': 175, 'n03930313': 129, 'n04118538': 143, 'n03733131': 118, 'n09332890': 197, 'n01443537': 0, 'n04179913': 147, 'n07875152': 192, 'n03544143': 109, 'n09428293': 198, 'n04311004': 154, 'n02123394': 31, 'n04070727': 140, 'n03085013': 92, 'n02437312': 53, 'n02793495': 66, 'n02730930': 62, 'n02094433': 25, 'n04456115': 163, 'n02963159': 85, 'n02486410': 56, 'n04371430': 158, 'n07749582': 187, 'n04328186': 155, 'n03649909': 114, 'n02190166': 37, 'n03388043': 102, 'n01774384': 8, 'n01944390': 15, 'n09256479': 196, 'n02837789': 74, 'n07579787': 177, 'n02058221': 22, 'n04399382': 161, 'n04275548': 152, 'n02791270': 65, 'n07720875': 184, 'n02481823': 55, 'n02769748': 63, 'n03089624': 93, 'n02099712': 27, 'n07695742': 181, 'n03937543': 130, 'n02056570': 21, 'n02281406': 45, 'n09246464': 195, 'n02509815': 58, 'n03983396': 135, 'n07753592': 188, 'n04149813': 146, 'n04254777': 149, 'n02233338': 41, 'n04008634': 137, 'n02823428': 73, 'n03400231': 104, 'n04376876': 159, 'n03393912': 103, 'n03355925': 101, 'n07583066': 178, 'n04074963': 141, 'n01629819': 1, 'n01983481': 18, 'n02321529': 46, 'n04487081': 166, 'n03250847': 99, 'n03255030': 100, 'n03902125': 128, 'n02892201': 78, 'n03404251': 105, 'n02883205': 77, 'n03100240': 94, 'n09193705': 194, 'n02415577': 51, 'n02480495': 54, 'n01698640': 4, 'n02666196': 59, 'n03637318': 113, 'n03796401': 121, 'n02795169': 67, 'n02504458': 57, 'n01917289': 14, 'n01950731': 17, 'n02123045': 30, 'n01855672': 11, 'n07711569': 182, 'n04532670': 170, 'n01882714': 12, 'n03763968': 119, 'n07768694': 189, 'n02999410': 88, 'n03617480': 112, 'n02917067': 81, 'n02988304': 87, 'n06596364': 176, 'n01768244': 6, 'n02410509': 50, 'n04356056': 156, 'n01742172': 5, 'n07614500': 179, 'n03980874': 134, 'n03804744': 122, 'n02808440': 69, 'n04398044': 160, 'n02843684': 76, 'n02423022': 52, 'n02669723': 60, 'n03599486': 111, 'n04465501': 164, 'n12267677': 199, 'n02226429': 39, 'n02165456': 36, 'n03662601': 115, 'n02231487': 40, 'n02085620': 24, 'n01644900': 3, 'n02129165': 34, 'n02099601': 26, 'n02699494': 61, 'n03837869': 124, 'n02815834': 72, 'n03447447': 108, 'n02950826': 84, 'n02788148': 64, 'n02909870': 80, 'n03814639': 123, 'n03706229': 117, 'n07871810': 190, 'n04259630': 150, 'n02814533': 70, 'n03424325': 106, 'n02948072': 83, 'n03179701': 97, 'n02236044': 42, 'n02206856': 38, 'n03160309': 96, 'n01984695': 19, 'n02113799': 29, 'n03977966': 133, 'n03584254': 110, 'n03670208': 116, 'n04023962': 138, 'n02814860': 71, 'n01910747': 13, 'n04596742': 174, 'n03992509': 136, 'n03770439': 120, 'n01784675': 10, 'n04133789': 144, 'n02927161': 82, 'n07715103': 183, 'n02841315': 75}\n"
     ]
    }
   ],
   "source": [
    "class_ids=train_generator.class_indices\n",
    "print(class_ids)"
   ]
  },
  {
   "cell_type": "code",
   "execution_count": 72,
   "metadata": {},
   "outputs": [],
   "source": [
    "def load_validation_data(no_of_classes):\n",
    "    with open(os.path.join(\"tiny-imagenet-200/val/\",\"val_annotations.txt\")) as f:\n",
    "        lines=f.readlines()\n",
    "        m=len(lines)\n",
    "        x=np.empty((m,224,224,3))\n",
    "        y=np.empty(m)\n",
    "        for i,line in enumerate(lines):\n",
    "            tokens=line.split()\n",
    "            img_name=tokens[0]\n",
    "            img_label=tokens[1]\n",
    "            img_url=os.path.join(\"tiny-imagenet-200/val/images/\",img_name)\n",
    "            img=image.load_img(img_url)\n",
    "            img=img.resize((224,224))\n",
    "            x[i,]=np.array(img,dtype=np.float32)/255.0\n",
    "            img.close()\n",
    "            y[i]=class_ids[img_label]\n",
    "        return x,keras.utils.to_categorical(y,num_classes=no_of_classes)   "
   ]
  },
  {
   "cell_type": "code",
   "execution_count": 74,
   "metadata": {},
   "outputs": [],
   "source": [
    "X_val,Y_val=load_validation_data(200)"
   ]
  },
  {
   "cell_type": "code",
   "execution_count": 76,
   "metadata": {},
   "outputs": [
    {
     "name": "stdout",
     "output_type": "stream",
     "text": [
      "(10000, 224, 224, 3)\n",
      "(10000, 200)\n"
     ]
    }
   ],
   "source": [
    "print(X_val.shape)\n",
    "print(Y_val.shape)"
   ]
  },
  {
   "cell_type": "code",
   "execution_count": null,
   "metadata": {},
   "outputs": [],
   "source": []
  },
  {
   "cell_type": "code",
   "execution_count": null,
   "metadata": {},
   "outputs": [],
   "source": []
  },
  {
   "cell_type": "code",
   "execution_count": null,
   "metadata": {},
   "outputs": [],
   "source": []
  },
  {
   "cell_type": "code",
   "execution_count": null,
   "metadata": {},
   "outputs": [],
   "source": []
  }
 ],
 "metadata": {
  "kernelspec": {
   "display_name": "Python 3",
   "language": "python",
   "name": "python3"
  },
  "language_info": {
   "codemirror_mode": {
    "name": "ipython",
    "version": 2
   },
   "file_extension": ".py",
   "mimetype": "text/x-python",
   "name": "python",
   "nbconvert_exporter": "python",
   "pygments_lexer": "ipython2",
   "version": "2.7.12"
  }
 },
 "nbformat": 4,
 "nbformat_minor": 2
}
